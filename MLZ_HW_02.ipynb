{
 "cells": [
  {
   "cell_type": "markdown",
   "id": "6686e661",
   "metadata": {},
   "source": [
    "# 2. Machine Learning for Regression"
   ]
  },
  {
   "cell_type": "code",
   "execution_count": 1,
   "id": "705a13d1",
   "metadata": {},
   "outputs": [],
   "source": [
    "import pandas as pd\n",
    "import numpy as np"
   ]
  },
  {
   "cell_type": "markdown",
   "id": "9097ba1a",
   "metadata": {},
   "source": [
    "## 2.1 Data preparation "
   ]
  },
  {
   "cell_type": "code",
   "execution_count": 2,
   "id": "e201448c",
   "metadata": {
    "scrolled": true
   },
   "outputs": [],
   "source": [
    "!wget 'https://raw.githubusercontent.com/alexeygrigorev/datasets/master/AB_NYC_2019.csv'"
   ]
  },
  {
   "cell_type": "code",
   "execution_count": 3,
   "id": "6a0e9461",
   "metadata": {},
   "outputs": [],
   "source": [
    "df = pd.read_csv('AB_NYC_2019.csv') \n",
    "active_cols = ['latitude', 'longitude', 'price', 'minimum_nights', 'number_of_reviews', 'reviews_per_month', 'calculated_host_listings_count', 'availability_365']\n",
    "df = df[active_cols]"
   ]
  },
  {
   "cell_type": "markdown",
   "id": "23fc8545",
   "metadata": {},
   "source": [
    "## 2.2 Exploratory Data Analysis "
   ]
  },
  {
   "cell_type": "code",
   "execution_count": 4,
   "id": "ba1983e0",
   "metadata": {},
   "outputs": [
    {
     "data": {
      "text/plain": [
       "count    48895.000000\n",
       "mean       152.720687\n",
       "std        240.154170\n",
       "min          0.000000\n",
       "25%         69.000000\n",
       "50%        106.000000\n",
       "75%        175.000000\n",
       "max      10000.000000\n",
       "Name: price, dtype: float64"
      ]
     },
     "execution_count": 4,
     "metadata": {},
     "output_type": "execute_result"
    }
   ],
   "source": [
    "df.price.describe()"
   ]
  },
  {
   "cell_type": "code",
   "execution_count": 5,
   "id": "454c0f90",
   "metadata": {},
   "outputs": [],
   "source": [
    "import matplotlib.pyplot as plt\n",
    "import seaborn as sns\n",
    "\n",
    "%matplotlib inline"
   ]
  },
  {
   "cell_type": "code",
   "execution_count": 6,
   "id": "cc3a0695",
   "metadata": {},
   "outputs": [
    {
     "data": {
      "text/plain": [
       "<AxesSubplot:xlabel='price', ylabel='Count'>"
      ]
     },
     "execution_count": 6,
     "metadata": {},
     "output_type": "execute_result"
    },
    {
     "data": {
      "image/png": "[encoded data removed]",
      "text/plain": [
       "<Figure size 432x288 with 1 Axes>"
      ]
     },
     "metadata": {
      "needs_background": "light"
     },
     "output_type": "display_data"
    }
   ],
   "source": [
    "sns.histplot(df.price, bins=60)"
   ]
  },
  {
   "cell_type": "code",
   "execution_count": 7,
   "id": "b3335e61",
   "metadata": {
    "scrolled": true
   },
   "outputs": [
    {
     "data": {
      "text/plain": [
       "<AxesSubplot:xlabel='price', ylabel='Count'>"
      ]
     },
     "execution_count": 7,
     "metadata": {},
     "output_type": "execute_result"
    },
    {
     "data": {
      "image/png": "[encoded data removed]",
      "text/plain": [
       "<Figure size 432x288 with 1 Axes>"
      ]
     },
     "metadata": {
      "needs_background": "light"
     },
     "output_type": "display_data"
    }
   ],
   "source": [
    "sns.histplot(df.price[df.price < 400], bins=35)"
   ]
  },
  {
   "cell_type": "markdown",
   "id": "aa0bc03d",
   "metadata": {},
   "source": [
    "### Question 1: Number of missing values"
   ]
  },
  {
   "cell_type": "code",
   "execution_count": 8,
   "id": "762d553d",
   "metadata": {},
   "outputs": [
    {
     "data": {
      "text/plain": [
       "latitude                              0\n",
       "longitude                             0\n",
       "price                                 0\n",
       "minimum_nights                        0\n",
       "number_of_reviews                     0\n",
       "reviews_per_month                 10052\n",
       "calculated_host_listings_count        0\n",
       "availability_365                      0\n",
       "dtype: int64"
      ]
     },
     "execution_count": 8,
     "metadata": {},
     "output_type": "execute_result"
    }
   ],
   "source": [
    "df.isnull().sum()"
   ]
  },
  {
   "cell_type": "markdown",
   "id": "267d5669",
   "metadata": {},
   "source": [
    "### Question 2: Median for minimum_nights"
   ]
  },
  {
   "cell_type": "code",
   "execution_count": 9,
   "id": "c2630b86",
   "metadata": {},
   "outputs": [
    {
     "data": {
      "text/plain": [
       "3.0"
      ]
     },
     "execution_count": 9,
     "metadata": {},
     "output_type": "execute_result"
    }
   ],
   "source": [
    "df.minimum_nights.median()"
   ]
  },
  {
   "cell_type": "code",
   "execution_count": 10,
   "id": "eb36eae3",
   "metadata": {},
   "outputs": [
    {
     "data": {
      "text/plain": [
       "3.0"
      ]
     },
     "execution_count": 10,
     "metadata": {},
     "output_type": "execute_result"
    }
   ],
   "source": [
    "df.minimum_nights.quantile()"
   ]
  },
  {
   "cell_type": "markdown",
   "id": "eb4d5fe6",
   "metadata": {},
   "source": [
    "## 2.3 Setting up the validation framework "
   ]
  },
  {
   "cell_type": "code",
   "execution_count": 11,
   "id": "c9808710",
   "metadata": {},
   "outputs": [],
   "source": [
    "n = len(df)\n",
    "\n",
    "n_val = int(n * 0.2)\n",
    "n_test = int(n * 0.2)\n",
    "n_train = n - n_val - n_test"
   ]
  },
  {
   "cell_type": "code",
   "execution_count": 12,
   "id": "cdc658e8",
   "metadata": {},
   "outputs": [
    {
     "data": {
      "text/plain": [
       "(9779, 9779, 29337)"
      ]
     },
     "execution_count": 12,
     "metadata": {},
     "output_type": "execute_result"
    }
   ],
   "source": [
    "n_val, n_test, n_train"
   ]
  },
  {
   "cell_type": "code",
   "execution_count": 13,
   "id": "bc7103ec",
   "metadata": {},
   "outputs": [
    {
     "data": {
      "text/plain": [
       "(29337, 9779, 9779)"
      ]
     },
     "execution_count": 13,
     "metadata": {},
     "output_type": "execute_result"
    }
   ],
   "source": [
    "idx = np.arange(n)\n",
    "np.random.seed(42)\n",
    "np.random.shuffle(idx)\n",
    "df_train = df.iloc[idx[:n_train]]\n",
    "df_val = df.iloc[idx[n_train:n_train+n_val]]\n",
    "df_test = df.iloc[idx[n_train+n_val:]]\n",
    "len(df_train), len(df_val), len(df_test)"
   ]
  },
  {
   "cell_type": "code",
   "execution_count": 14,
   "id": "6d852ea9",
   "metadata": {},
   "outputs": [],
   "source": [
    "df_train = df_train.reset_index(drop=True)\n",
    "df_val = df_val.reset_index(drop=True)\n",
    "df_test = df_test.reset_index(drop=True)"
   ]
  },
  {
   "cell_type": "code",
   "execution_count": 15,
   "id": "762689f8",
   "metadata": {},
   "outputs": [],
   "source": [
    "y_train = np.log1p(df_train.price.values)\n",
    "y_val = np.log1p(df_val.price.values)\n",
    "y_test = np.log1p(df_test.price.values)"
   ]
  },
  {
   "cell_type": "code",
   "execution_count": 16,
   "id": "b33aaf33",
   "metadata": {},
   "outputs": [],
   "source": [
    "del df_train['price']\n",
    "del df_val['price']\n",
    "del df_test['price']"
   ]
  },
  {
   "cell_type": "markdown",
   "id": "a52eb811",
   "metadata": {},
   "source": [
    "## 2.4 Data cleaning "
   ]
  },
  {
   "cell_type": "markdown",
   "id": "074fb612",
   "metadata": {},
   "source": [
    "### Question 3: Best way to fill NAs"
   ]
  },
  {
   "cell_type": "code",
   "execution_count": 17,
   "id": "48be4859",
   "metadata": {},
   "outputs": [
    {
     "data": {
      "text/plain": [
       "latitude                             0\n",
       "longitude                            0\n",
       "minimum_nights                       0\n",
       "number_of_reviews                    0\n",
       "reviews_per_month                 5998\n",
       "calculated_host_listings_count       0\n",
       "availability_365                     0\n",
       "dtype: int64"
      ]
     },
     "execution_count": 17,
     "metadata": {},
     "output_type": "execute_result"
    }
   ],
   "source": [
    "df_train.isnull().sum()"
   ]
  },
  {
   "cell_type": "code",
   "execution_count": 18,
   "id": "c5bedf9b",
   "metadata": {},
   "outputs": [],
   "source": [
    "rpm_mean = df_train.reviews_per_month.mean()"
   ]
  },
  {
   "cell_type": "code",
   "execution_count": 19,
   "id": "7449ecef",
   "metadata": {},
   "outputs": [],
   "source": [
    "df_train_norm_0 = df_train.fillna(0)"
   ]
  },
  {
   "cell_type": "code",
   "execution_count": 20,
   "id": "c1d3a651",
   "metadata": {},
   "outputs": [],
   "source": [
    "df_train_norm_mean = df_train.fillna(rpm_mean)"
   ]
  },
  {
   "cell_type": "markdown",
   "id": "c3b62ef2",
   "metadata": {},
   "source": [
    "### Utilities - 1"
   ]
  },
  {
   "cell_type": "code",
   "execution_count": 21,
   "id": "ea511e69",
   "metadata": {},
   "outputs": [],
   "source": [
    "def train_linear_regression(X, y):\n",
    "    ones = np.ones(X.shape[0])\n",
    "    X = np.column_stack([ones, X])\n",
    "\n",
    "    XTX = X.T.dot(X)\n",
    "    XTX_inv = np.linalg.inv(XTX)\n",
    "    w_full = XTX_inv.dot(X.T).dot(y)\n",
    "    \n",
    "    return w_full[0], w_full[1:]\n",
    "\n",
    "def rmse(y, y_pred):\n",
    "    se = (y - y_pred) ** 2\n",
    "    mse = se.mean()\n",
    "    return np.sqrt(mse)\n",
    "\n",
    "def train_linear_regression_reg(X, y, r=0.001):\n",
    "    ones = np.ones(X.shape[0])\n",
    "    X = np.column_stack([ones, X])\n",
    "\n",
    "    XTX = X.T.dot(X)\n",
    "    XTX = XTX + r * np.eye(XTX.shape[0])\n",
    "\n",
    "    XTX_inv = np.linalg.inv(XTX)\n",
    "    w_full = XTX_inv.dot(X.T).dot(y)\n",
    "    \n",
    "    return w_full[0], w_full[1:]\n",
    "\n",
    "def impute_missing_values(df, value):\n",
    "    return df.fillna(value)"
   ]
  },
  {
   "cell_type": "code",
   "execution_count": 22,
   "id": "cd6c0cc1",
   "metadata": {},
   "outputs": [],
   "source": [
    "w0_0, w_0 = train_linear_regression(df_train_norm_0, y_train)\n",
    "w0_mean, w_mean = train_linear_regression(df_train_norm_mean, y_train)"
   ]
  },
  {
   "cell_type": "code",
   "execution_count": 23,
   "id": "1b1fed7b",
   "metadata": {},
   "outputs": [
    {
     "data": {
      "text/plain": [
       "latitude                          0\n",
       "longitude                         0\n",
       "minimum_nights                    0\n",
       "number_of_reviews                 0\n",
       "reviews_per_month                 0\n",
       "calculated_host_listings_count    0\n",
       "availability_365                  0\n",
       "dtype: int64"
      ]
     },
     "execution_count": 23,
     "metadata": {},
     "output_type": "execute_result"
    }
   ],
   "source": [
    "df_val_0 = df_val.fillna(0)\n",
    "df_val_0.isnull().sum()"
   ]
  },
  {
   "cell_type": "code",
   "execution_count": 24,
   "id": "50043006",
   "metadata": {},
   "outputs": [
    {
     "data": {
      "text/plain": [
       "latitude                          0\n",
       "longitude                         0\n",
       "minimum_nights                    0\n",
       "number_of_reviews                 0\n",
       "reviews_per_month                 0\n",
       "calculated_host_listings_count    0\n",
       "availability_365                  0\n",
       "dtype: int64"
      ]
     },
     "execution_count": 24,
     "metadata": {},
     "output_type": "execute_result"
    }
   ],
   "source": [
    "df_val_mean = df_val.fillna(rpm_mean) # tried mean of df_val as well\n",
    "df_val_mean.isnull().sum()"
   ]
  },
  {
   "cell_type": "code",
   "execution_count": 25,
   "id": "28150f73",
   "metadata": {},
   "outputs": [
    {
     "data": {
      "text/plain": [
       "0.64"
      ]
     },
     "execution_count": 25,
     "metadata": {},
     "output_type": "execute_result"
    }
   ],
   "source": [
    "y_0_pred = w0_0 + df_val_0.dot(w_0)\n",
    "score_0 = rmse(y_val, y_0_pred)\n",
    "round(score_0, 2)"
   ]
  },
  {
   "cell_type": "code",
   "execution_count": 26,
   "id": "128fc3dd",
   "metadata": {},
   "outputs": [
    {
     "data": {
      "text/plain": [
       "0.64"
      ]
     },
     "execution_count": 26,
     "metadata": {},
     "output_type": "execute_result"
    }
   ],
   "source": [
    "y_mean_pred = w0_mean + df_val_mean.dot(w_mean)\n",
    "score_mean = rmse(y_val, y_mean_pred)\n",
    "round(score_mean, 2)"
   ]
  },
  {
   "cell_type": "markdown",
   "id": "8ccb86da",
   "metadata": {},
   "source": [
    "## 2.5 Model training and tuning"
   ]
  },
  {
   "cell_type": "markdown",
   "id": "98883894",
   "metadata": {},
   "source": [
    "### Utilities - 2 "
   ]
  },
  {
   "cell_type": "code",
   "execution_count": 27,
   "id": "a34a42ac",
   "metadata": {},
   "outputs": [],
   "source": [
    "del df_train\n",
    "del df_test\n",
    "del df_val"
   ]
  },
  {
   "cell_type": "code",
   "execution_count": 28,
   "id": "30f0bcc2",
   "metadata": {},
   "outputs": [],
   "source": [
    "def split(df, seed):\n",
    "    n = len(df)\n",
    "    n_val = int(n * 0.2)\n",
    "    n_test = int(n * 0.2)\n",
    "    n_train = n - n_val - n_test\n",
    "    \n",
    "    idx = np.arange(n)\n",
    "    np.random.seed(seed)\n",
    "    np.random.shuffle(idx)\n",
    "    df_train = df.iloc[idx[:n_train]].reset_index(drop=True)\n",
    "    df_val = df.iloc[idx[n_train:n_train+n_val]].reset_index(drop=True)\n",
    "    df_test = df.iloc[idx[n_train+n_val:]].reset_index(drop=True)\n",
    "\n",
    "    y_train = np.log1p(df_train.price.values)\n",
    "    y_val = np.log1p(df_val.price.values)\n",
    "    y_test = np.log1p(df_test.price.values)\n",
    "    \n",
    "    del df_train['price']\n",
    "    del df_val['price']\n",
    "    del df_test['price']\n",
    "    \n",
    "    return {\"train\":[df_train, y_train], \"val\":[df_val, y_val], \"test\":[df_test, y_test]}\n",
    "\n",
    "def predict(w0, w, val_features):\n",
    "    return w0 + val_features.dot(w)\n",
    "\n",
    "def split_train_test(df, seed, r):\n",
    "    # prepare\n",
    "    df = impute_missing_values(df, 0)\n",
    "    \n",
    "    # split\n",
    "    datasets = split(df, seed)\n",
    "    train = datasets[\"train\"]\n",
    "    val = datasets[\"val\"]\n",
    "    \n",
    "    # train\n",
    "    if r is not None:\n",
    "        w0, w = train_linear_regression_reg(train[0], train[1], r)\n",
    "    else:\n",
    "        w0, w = train_linear_regression(train[0], train[1])\n",
    "    \n",
    "    # validate\n",
    "    y_pred = predict(w0, w, val[0])\n",
    "    score = rmse(val[1], y_pred)\n",
    "    \n",
    "    print(\"{}\\t\\t{}\\t\\t{}\".format(seed, r, round(score,2)))\n",
    "    return w0, w, r, score"
   ]
  },
  {
   "cell_type": "markdown",
   "id": "02022422",
   "metadata": {},
   "source": [
    "### Question 4: Best regularization parameter r "
   ]
  },
  {
   "cell_type": "code",
   "execution_count": 29,
   "id": "c96b979f",
   "metadata": {},
   "outputs": [
    {
     "name": "stdout",
     "output_type": "stream",
     "text": [
      "seed\t\tr\t\tRMSE\n",
      "42\t\t0\t\t0.64\n",
      "42\t\t1e-06\t\t0.64\n",
      "42\t\t0.0001\t\t0.64\n",
      "42\t\t0.001\t\t0.64\n",
      "42\t\t0.01\t\t0.66\n",
      "42\t\t0.1\t\t0.68\n",
      "42\t\t1\t\t0.68\n",
      "42\t\t5\t\t0.68\n",
      "42\t\t10\t\t0.68\n"
     ]
    }
   ],
   "source": [
    "print(\"seed\\t\\tr\\t\\tRMSE\")\n",
    "for r in [0, 0.000001, 0.0001, 0.001, 0.01, 0.1, 1, 5, 10]:\n",
    "    split_train_test(df, 42, r)"
   ]
  },
  {
   "cell_type": "markdown",
   "id": "96893f60",
   "metadata": {},
   "source": [
    "### Question 5: STD of RMSE scores for different seeds "
   ]
  },
  {
   "cell_type": "code",
   "execution_count": 30,
   "id": "a4b0c025",
   "metadata": {},
   "outputs": [
    {
     "name": "stdout",
     "output_type": "stream",
     "text": [
      "seed\t\tr\t\tRMSE\n",
      "0\t\tNone\t\t0.65\n",
      "1\t\tNone\t\t0.65\n",
      "2\t\tNone\t\t0.65\n",
      "3\t\tNone\t\t0.64\n",
      "4\t\tNone\t\t0.64\n",
      "5\t\tNone\t\t0.63\n",
      "6\t\tNone\t\t0.63\n",
      "7\t\tNone\t\t0.65\n",
      "8\t\tNone\t\t0.65\n",
      "9\t\tNone\t\t0.64\n",
      "[0.6549779961365334, 0.6462523685579471, 0.647655817759481, 0.6375145070819092, 0.6445809082983165, 0.6305809996428803, 0.6297851917103146, 0.6506184266843087, 0.6489780353328034, 0.6437565168218954]\n",
      "\n",
      "Std RMSE:  0.008\n"
     ]
    }
   ],
   "source": [
    "print(\"seed\\t\\tr\\t\\tRMSE\")\n",
    "scores = []\n",
    "for seed in [0, 1, 2, 3, 4, 5, 6, 7, 8, 9]:\n",
    "    [w0, w, r, score] = split_train_test(df, seed, None)\n",
    "    scores.append(score)\n",
    "\n",
    "print(scores)\n",
    "scores_std = np.std(scores)\n",
    "print(\"\\nStd RMSE: \", round(scores_std, 3))"
   ]
  },
  {
   "cell_type": "markdown",
   "id": "8443c95d",
   "metadata": {},
   "source": [
    "## 2.5 Using the model"
   ]
  },
  {
   "cell_type": "markdown",
   "id": "1d67e70d",
   "metadata": {},
   "source": [
    "### Question 6: RMSE on test  "
   ]
  },
  {
   "cell_type": "code",
   "execution_count": 31,
   "id": "77cb11c9",
   "metadata": {},
   "outputs": [
    {
     "name": "stdout",
     "output_type": "stream",
     "text": [
      "RMSE on the test dataset:  0.65\n"
     ]
    }
   ],
   "source": [
    "df = pd.read_csv('AB_NYC_2019.csv')\n",
    "active_cols = ['latitude', 'longitude', 'price', 'minimum_nights', 'number_of_reviews', 'reviews_per_month', 'calculated_host_listings_count', 'availability_365']\n",
    "df = df[active_cols]\n",
    "\n",
    "df = impute_missing_values(df, 0) # Fill the missing values with 0\n",
    "\n",
    "datasets = split(df, 9) # Split the dataset like previously, use seed 9\n",
    "\n",
    "train = datasets[\"train\"]\n",
    "val = datasets[\"val\"]\n",
    "test = datasets[\"test\"]\n",
    "\n",
    "X_full_train = pd.concat([train[0], val[0]]) # Combine train and validation datasets\n",
    "y_full_train = np.concatenate([train[1], val[1]])\n",
    "\n",
    "w0, w = train_linear_regression_reg(X_full_train, y_full_train, r=0.001) # Train a model with r=0.001\n",
    "\n",
    "y_pred = w0 + test[0].dot(w)\n",
    "score = rmse(test[1], y_pred) # RMSE on the test dataset\n",
    "\n",
    "print(\"RMSE on the test dataset: \", round(score,2))"
   ]
  }
 ],
 "metadata": {
  "kernelspec": {
   "display_name": "Python 3",
   "language": "python",
   "name": "python3"
  },
  "language_info": {
   "codemirror_mode": {
    "name": "ipython",
    "version": 3
   },
   "file_extension": ".py",
   "mimetype": "text/x-python",
   "name": "python",
   "nbconvert_exporter": "python",
   "pygments_lexer": "ipython3",
   "version": "3.8.8"
  }
 },
 "nbformat": 4,
 "nbformat_minor": 5
}
