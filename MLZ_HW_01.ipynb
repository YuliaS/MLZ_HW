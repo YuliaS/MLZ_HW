{
 "cells": [
  {
   "cell_type": "markdown",
   "id": "bcb9bc5b",
   "metadata": {},
   "source": [
    "### Question 1"
   ]
  },
  {
   "cell_type": "code",
   "execution_count": 1,
   "id": "a6790b4e",
   "metadata": {
    "scrolled": true
   },
   "outputs": [
    {
     "name": "stdout",
     "output_type": "stream",
     "text": [
      "1.20.1\n"
     ]
    }
   ],
   "source": [
    "# Version of NumPy\n",
    "\n",
    "import numpy as np\n",
    "print(np.__version__)"
   ]
  },
  {
   "cell_type": "markdown",
   "id": "ed036172",
   "metadata": {},
   "source": [
    "### Question 2"
   ]
  },
  {
   "cell_type": "code",
   "execution_count": 2,
   "id": "998163ee",
   "metadata": {
    "scrolled": false
   },
   "outputs": [
    {
     "name": "stdout",
     "output_type": "stream",
     "text": [
      "1.2.4\n"
     ]
    }
   ],
   "source": [
    "# Version of Pandas\n",
    "\n",
    "import pandas as pd\n",
    "print(pd.__version__)"
   ]
  },
  {
   "cell_type": "markdown",
   "id": "95d60c8d",
   "metadata": {},
   "source": [
    "### Question 3"
   ]
  },
  {
   "cell_type": "code",
   "execution_count": 3,
   "id": "213b54d2",
   "metadata": {},
   "outputs": [],
   "source": [
    "# Read data with Pandas\n",
    "\n",
    "df = pd.read_csv('data.csv')"
   ]
  },
  {
   "cell_type": "code",
   "execution_count": 4,
   "id": "c4c1f4fb",
   "metadata": {},
   "outputs": [
    {
     "name": "stdout",
     "output_type": "stream",
     "text": [
      "61546.76\n"
     ]
    }
   ],
   "source": [
    "# The average price of BMW\n",
    "\n",
    "print(round(df[df['Make']=='BMW']['MSRP'].mean(), 2))"
   ]
  },
  {
   "cell_type": "markdown",
   "id": "4ce0c850",
   "metadata": {},
   "source": [
    "### Question 4"
   ]
  },
  {
   "cell_type": "code",
   "execution_count": 5,
   "id": "5ce93d8b",
   "metadata": {},
   "outputs": [
    {
     "name": "stdout",
     "output_type": "stream",
     "text": [
      "51\n"
     ]
    }
   ],
   "source": [
    "# Number of missing values in \"Engine HP\" after 2015 (including 2015)\n",
    "\n",
    "print(len(df[(df['Year'] >= 2015) & df[\"Engine HP\"].isna()]))"
   ]
  },
  {
   "cell_type": "markdown",
   "id": "6c5c7afc",
   "metadata": {},
   "source": [
    "### Question 5"
   ]
  },
  {
   "cell_type": "code",
   "execution_count": 6,
   "id": "000327a9",
   "metadata": {},
   "outputs": [
    {
     "name": "stdout",
     "output_type": "stream",
     "text": [
      "249\n"
     ]
    }
   ],
   "source": [
    "# The average \"Engine HP\" in the dataset\n",
    "\n",
    "mean_hp_before = df['Engine HP'].mean()\n",
    "print(round(mean_hp_before))"
   ]
  },
  {
   "cell_type": "code",
   "execution_count": 7,
   "id": "0acbc38d",
   "metadata": {},
   "outputs": [],
   "source": [
    "# Fill the missing values in \"Engine HP\" with the mean \n",
    "\n",
    "engine_hp_normalized = df['Engine HP'].fillna(mean_hp_before)\n",
    "df['Engine HP'] = engine_hp_normalized"
   ]
  },
  {
   "cell_type": "code",
   "execution_count": 8,
   "id": "860cfc6e",
   "metadata": {},
   "outputs": [
    {
     "name": "stdout",
     "output_type": "stream",
     "text": [
      "249\n"
     ]
    }
   ],
   "source": [
    "# The average \"Engine HP\" in the dataset\n",
    "\n",
    "mean_hp_after = df['Engine HP'].mean()\n",
    "print(round(mean_hp_after))"
   ]
  },
  {
   "cell_type": "markdown",
   "id": "b55a7367",
   "metadata": {},
   "source": [
    "### Question 6"
   ]
  },
  {
   "cell_type": "code",
   "execution_count": 9,
   "id": "30dc6474",
   "metadata": {
    "scrolled": true
   },
   "outputs": [],
   "source": [
    "# Select all the \"Rolls-Royce\" cars from the dataset\n",
    "\n",
    "df_ = df[df['Make']=='Rolls-Royce']"
   ]
  },
  {
   "cell_type": "code",
   "execution_count": 10,
   "id": "ffda3805",
   "metadata": {},
   "outputs": [],
   "source": [
    "# Select only columns \"Engine HP\", \"Engine Cylinders\", \"highway MPG\"\n",
    "\n",
    "df_ = df_[[\"Engine HP\", \"Engine Cylinders\", \"highway MPG\"]]"
   ]
  },
  {
   "cell_type": "code",
   "execution_count": 11,
   "id": "8d098b29",
   "metadata": {},
   "outputs": [
    {
     "name": "stdout",
     "output_type": "stream",
     "text": [
      "Number of rows:  7\n"
     ]
    }
   ],
   "source": [
    "# Drop all duplicated rows using drop_duplicates method\n",
    "\n",
    "df_ = df_.drop_duplicates()\n",
    "print(\"Number of rows: \", df_.shape[0])"
   ]
  },
  {
   "cell_type": "code",
   "execution_count": 12,
   "id": "0910a3bd",
   "metadata": {},
   "outputs": [],
   "source": [
    "# Get the underlying NumPy array\n",
    "\n",
    "X = df_.values"
   ]
  },
  {
   "cell_type": "code",
   "execution_count": 13,
   "id": "c3a7f160",
   "metadata": {},
   "outputs": [],
   "source": [
    "# Get the transpose of X\n",
    "\n",
    "TX = X.T"
   ]
  },
  {
   "cell_type": "code",
   "execution_count": 14,
   "id": "0d451a77",
   "metadata": {},
   "outputs": [],
   "source": [
    "# Compute matrix-matrix multiplication between the transpose of X and X\n",
    "\n",
    "XTX = TX.dot(X)"
   ]
  },
  {
   "cell_type": "code",
   "execution_count": 15,
   "id": "b650e79b",
   "metadata": {
    "scrolled": true
   },
   "outputs": [],
   "source": [
    "# Invert XTX\n",
    "\n",
    "XTX_inv = np.linalg.inv(XTX)"
   ]
  },
  {
   "cell_type": "code",
   "execution_count": 20,
   "id": "7fc02218",
   "metadata": {},
   "outputs": [
    {
     "name": "stdout",
     "output_type": "stream",
     "text": [
      "0.0322\n"
     ]
    }
   ],
   "source": [
    "# The sum of all the elements of the result\n",
    "\n",
    "print(round(XTX_inv.sum(), 4))"
   ]
  },
  {
   "cell_type": "markdown",
   "id": "b31121a2",
   "metadata": {},
   "source": [
    "### Question 7"
   ]
  },
  {
   "cell_type": "code",
   "execution_count": 17,
   "id": "251993c2",
   "metadata": {},
   "outputs": [],
   "source": [
    "# Create an array y with values [1000, 1100, 900, 1200, 1000, 850, 1300]\n",
    "\n",
    "y = np.array([1000, 1100, 900, 1200, 1000, 850, 1300])"
   ]
  },
  {
   "cell_type": "code",
   "execution_count": 18,
   "id": "eb7c9040",
   "metadata": {},
   "outputs": [],
   "source": [
    "# Multiply the inverse of XTX with the transpose of X, and then multiply the result by y. Call the result w.\n",
    "\n",
    "w = (XTX_inv.dot(TX)).dot(y)"
   ]
  },
  {
   "cell_type": "code",
   "execution_count": 19,
   "id": "e20b22eb",
   "metadata": {},
   "outputs": [
    {
     "name": "stdout",
     "output_type": "stream",
     "text": [
      "0.199896\n"
     ]
    }
   ],
   "source": [
    "# What's the value of the first element of w?.\n",
    "\n",
    "print(round(w[0], 6))"
   ]
  }
 ],
 "metadata": {
  "kernelspec": {
   "display_name": "Python 3",
   "language": "python",
   "name": "python3"
  },
  "language_info": {
   "codemirror_mode": {
    "name": "ipython",
    "version": 3
   },
   "file_extension": ".py",
   "mimetype": "text/x-python",
   "name": "python",
   "nbconvert_exporter": "python",
   "pygments_lexer": "ipython3",
   "version": "3.8.8"
  }
 },
 "nbformat": 4,
 "nbformat_minor": 5
}
