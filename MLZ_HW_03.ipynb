{
 "cells": [
  {
   "cell_type": "markdown",
   "id": "6686e661",
   "metadata": {},
   "source": [
    "# 3. Machine Learning for Classification"
   ]
  },
  {
   "cell_type": "code",
   "execution_count": 1,
   "id": "705a13d1",
   "metadata": {},
   "outputs": [],
   "source": [
    "import pandas as pd\n",
    "import numpy as np"
   ]
  },
  {
   "cell_type": "markdown",
   "id": "9097ba1a",
   "metadata": {},
   "source": [
    "## 3.1 Data preparation "
   ]
  },
  {
   "cell_type": "code",
   "execution_count": 2,
   "id": "e201448c",
   "metadata": {
    "scrolled": true
   },
   "outputs": [],
   "source": [
    "# !wget 'https://raw.githubusercontent.com/alexeygrigorev/datasets/master/AB_NYC_2019.csv'"
   ]
  },
  {
   "cell_type": "code",
   "execution_count": 3,
   "id": "6a0e9461",
   "metadata": {},
   "outputs": [],
   "source": [
    "df = pd.read_csv('AB_NYC_2019.csv')"
   ]
  },
  {
   "cell_type": "code",
   "execution_count": 4,
   "id": "75d19055",
   "metadata": {},
   "outputs": [],
   "source": [
    "active_cols = ['neighbourhood_group', 'room_type', 'latitude', 'longitude', 'price', 'minimum_nights', 'number_of_reviews', 'reviews_per_month', 'calculated_host_listings_count', 'availability_365']\n",
    "df = df[active_cols]\n",
    "df = df.fillna(0)"
   ]
  },
  {
   "cell_type": "code",
   "execution_count": 5,
   "id": "5984437b",
   "metadata": {},
   "outputs": [],
   "source": [
    "df.columns = df.columns.str.lower().str.replace(' ', '_')\n",
    "\n",
    "categorical_columns = list(df.dtypes[df.dtypes == 'object'].index)\n",
    "\n",
    "for c in categorical_columns:\n",
    "    df[c] = df[c].str.lower().str.replace(' ', '_')"
   ]
  },
  {
   "cell_type": "markdown",
   "id": "23fc8545",
   "metadata": {},
   "source": [
    "## 3.2 Exploratory Data Analysis "
   ]
  },
  {
   "cell_type": "markdown",
   "id": "1da6eb49",
   "metadata": {},
   "source": [
    "### Question 1: Most frequent value for neighbourhood_group "
   ]
  },
  {
   "cell_type": "code",
   "execution_count": 6,
   "id": "59d210f9",
   "metadata": {},
   "outputs": [
    {
     "data": {
      "text/plain": [
       "count         48895\n",
       "unique            5\n",
       "top       manhattan\n",
       "freq          21661\n",
       "Name: neighbourhood_group, dtype: object"
      ]
     },
     "execution_count": 6,
     "metadata": {},
     "output_type": "execute_result"
    }
   ],
   "source": [
    "df.neighbourhood_group.describe()"
   ]
  },
  {
   "cell_type": "code",
   "execution_count": 7,
   "id": "9143ea62",
   "metadata": {},
   "outputs": [
    {
     "data": {
      "text/plain": [
       "0    manhattan\n",
       "dtype: object"
      ]
     },
     "execution_count": 7,
     "metadata": {},
     "output_type": "execute_result"
    }
   ],
   "source": [
    "df.neighbourhood_group.mode()"
   ]
  },
  {
   "cell_type": "markdown",
   "id": "eb4d5fe6",
   "metadata": {},
   "source": [
    "## 3.3 Setting up the validation framework "
   ]
  },
  {
   "cell_type": "code",
   "execution_count": 8,
   "id": "1bfbbbfa",
   "metadata": {},
   "outputs": [],
   "source": [
    "from sklearn.model_selection import train_test_split"
   ]
  },
  {
   "cell_type": "code",
   "execution_count": 9,
   "id": "8489eb85",
   "metadata": {},
   "outputs": [],
   "source": [
    "df_full_train, df_test = train_test_split(df, test_size=0.2, random_state=42)\n",
    "df_train, df_val = train_test_split(df_full_train, test_size=0.25, random_state=42)"
   ]
  },
  {
   "cell_type": "code",
   "execution_count": 10,
   "id": "4f0d891d",
   "metadata": {},
   "outputs": [
    {
     "data": {
      "text/plain": [
       "(29337, 9779, 9779)"
      ]
     },
     "execution_count": 10,
     "metadata": {},
     "output_type": "execute_result"
    }
   ],
   "source": [
    "len(df_train), len(df_val), len(df_test)"
   ]
  },
  {
   "cell_type": "code",
   "execution_count": 11,
   "id": "f07df321",
   "metadata": {},
   "outputs": [],
   "source": [
    "df_full_train = df_full_train.reset_index(drop=True)\n",
    "df_train = df_train.reset_index(drop=True)\n",
    "df_val = df_val.reset_index(drop=True)\n",
    "df_test = df_test.reset_index(drop=True)"
   ]
  },
  {
   "cell_type": "code",
   "execution_count": 12,
   "id": "762689f8",
   "metadata": {},
   "outputs": [],
   "source": [
    "y_df_full_train = df_full_train.price.values\n",
    "y_train = df_train.price.values\n",
    "y_val = df_val.price.values\n",
    "y_test = df_test.price.values"
   ]
  },
  {
   "cell_type": "code",
   "execution_count": 13,
   "id": "b33aaf33",
   "metadata": {},
   "outputs": [],
   "source": [
    "del df_full_train['price']\n",
    "del df_train['price']\n",
    "del df_val['price']\n",
    "del df_test['price']"
   ]
  },
  {
   "cell_type": "markdown",
   "id": "1491b4c5",
   "metadata": {},
   "source": [
    "## 3.4 Feature importance: Correlation"
   ]
  },
  {
   "cell_type": "code",
   "execution_count": 14,
   "id": "9234f197",
   "metadata": {},
   "outputs": [],
   "source": [
    "from IPython.display import display\n",
    "import seaborn as sn\n",
    "import matplotlib.pyplot as plt"
   ]
  },
  {
   "cell_type": "code",
   "execution_count": 15,
   "id": "121f2bbb",
   "metadata": {},
   "outputs": [
    {
     "data": {
      "text/html": [
       "<div>\n",
       "<style scoped>\n",
       "    .dataframe tbody tr th:only-of-type {\n",
       "        vertical-align: middle;\n",
       "    }\n",
       "\n",
       "    .dataframe tbody tr th {\n",
       "        vertical-align: top;\n",
       "    }\n",
       "\n",
       "    .dataframe thead th {\n",
       "        text-align: right;\n",
       "    }\n",
       "</style>\n",
       "<table border=\"1\" class=\"dataframe\">\n",
       "  <thead>\n",
       "    <tr style=\"text-align: right;\">\n",
       "      <th></th>\n",
       "      <th>latitude</th>\n",
       "      <th>longitude</th>\n",
       "      <th>minimum_nights</th>\n",
       "      <th>number_of_reviews</th>\n",
       "      <th>reviews_per_month</th>\n",
       "      <th>calculated_host_listings_count</th>\n",
       "      <th>availability_365</th>\n",
       "    </tr>\n",
       "  </thead>\n",
       "  <tbody>\n",
       "    <tr>\n",
       "      <th>latitude</th>\n",
       "      <td>1.000000</td>\n",
       "      <td>0.080704</td>\n",
       "      <td>0.025497</td>\n",
       "      <td>-0.011836</td>\n",
       "      <td>-0.013809</td>\n",
       "      <td>0.020299</td>\n",
       "      <td>-0.008341</td>\n",
       "    </tr>\n",
       "    <tr>\n",
       "      <th>longitude</th>\n",
       "      <td>0.080704</td>\n",
       "      <td>1.000000</td>\n",
       "      <td>-0.063498</td>\n",
       "      <td>0.057570</td>\n",
       "      <td>0.134401</td>\n",
       "      <td>-0.115289</td>\n",
       "      <td>0.082994</td>\n",
       "    </tr>\n",
       "    <tr>\n",
       "      <th>minimum_nights</th>\n",
       "      <td>0.025497</td>\n",
       "      <td>-0.063498</td>\n",
       "      <td>1.000000</td>\n",
       "      <td>-0.077860</td>\n",
       "      <td>-0.121687</td>\n",
       "      <td>0.121748</td>\n",
       "      <td>0.140596</td>\n",
       "    </tr>\n",
       "    <tr>\n",
       "      <th>number_of_reviews</th>\n",
       "      <td>-0.011836</td>\n",
       "      <td>0.057570</td>\n",
       "      <td>-0.077860</td>\n",
       "      <td>1.000000</td>\n",
       "      <td>0.584935</td>\n",
       "      <td>-0.072603</td>\n",
       "      <td>0.175428</td>\n",
       "    </tr>\n",
       "    <tr>\n",
       "      <th>reviews_per_month</th>\n",
       "      <td>-0.013809</td>\n",
       "      <td>0.134401</td>\n",
       "      <td>-0.121687</td>\n",
       "      <td>0.584935</td>\n",
       "      <td>1.000000</td>\n",
       "      <td>-0.047368</td>\n",
       "      <td>0.165565</td>\n",
       "    </tr>\n",
       "    <tr>\n",
       "      <th>calculated_host_listings_count</th>\n",
       "      <td>0.020299</td>\n",
       "      <td>-0.115289</td>\n",
       "      <td>0.121748</td>\n",
       "      <td>-0.072603</td>\n",
       "      <td>-0.047368</td>\n",
       "      <td>1.000000</td>\n",
       "      <td>0.223328</td>\n",
       "    </tr>\n",
       "    <tr>\n",
       "      <th>availability_365</th>\n",
       "      <td>-0.008341</td>\n",
       "      <td>0.082994</td>\n",
       "      <td>0.140596</td>\n",
       "      <td>0.175428</td>\n",
       "      <td>0.165565</td>\n",
       "      <td>0.223328</td>\n",
       "      <td>1.000000</td>\n",
       "    </tr>\n",
       "  </tbody>\n",
       "</table>\n",
       "</div>"
      ],
      "text/plain": [
       "                                latitude  longitude  minimum_nights  \\\n",
       "latitude                        1.000000   0.080704        0.025497   \n",
       "longitude                       0.080704   1.000000       -0.063498   \n",
       "minimum_nights                  0.025497  -0.063498        1.000000   \n",
       "number_of_reviews              -0.011836   0.057570       -0.077860   \n",
       "reviews_per_month              -0.013809   0.134401       -0.121687   \n",
       "calculated_host_listings_count  0.020299  -0.115289        0.121748   \n",
       "availability_365               -0.008341   0.082994        0.140596   \n",
       "\n",
       "                                number_of_reviews  reviews_per_month  \\\n",
       "latitude                                -0.011836          -0.013809   \n",
       "longitude                                0.057570           0.134401   \n",
       "minimum_nights                          -0.077860          -0.121687   \n",
       "number_of_reviews                        1.000000           0.584935   \n",
       "reviews_per_month                        0.584935           1.000000   \n",
       "calculated_host_listings_count          -0.072603          -0.047368   \n",
       "availability_365                         0.175428           0.165565   \n",
       "\n",
       "                                calculated_host_listings_count  \\\n",
       "latitude                                              0.020299   \n",
       "longitude                                            -0.115289   \n",
       "minimum_nights                                        0.121748   \n",
       "number_of_reviews                                    -0.072603   \n",
       "reviews_per_month                                    -0.047368   \n",
       "calculated_host_listings_count                        1.000000   \n",
       "availability_365                                      0.223328   \n",
       "\n",
       "                                availability_365  \n",
       "latitude                               -0.008341  \n",
       "longitude                               0.082994  \n",
       "minimum_nights                          0.140596  \n",
       "number_of_reviews                       0.175428  \n",
       "reviews_per_month                       0.165565  \n",
       "calculated_host_listings_count          0.223328  \n",
       "availability_365                        1.000000  "
      ]
     },
     "metadata": {},
     "output_type": "display_data"
    }
   ],
   "source": [
    "numerical = ['latitude', 'longitude', 'minimum_nights', 'number_of_reviews', 'reviews_per_month', 'calculated_host_listings_count', 'availability_365']\n",
    "\n",
    "corrMatrix = df_full_train[numerical].corr()\n",
    "\n",
    "display(corrMatrix)"
   ]
  },
  {
   "cell_type": "markdown",
   "id": "267d5669",
   "metadata": {},
   "source": [
    "### Question 2: Features with biggest correlation"
   ]
  },
  {
   "cell_type": "code",
   "execution_count": 16,
   "id": "6037bb63",
   "metadata": {},
   "outputs": [
    {
     "data": {
      "image/png": "[encoded data removed]",
      "text/plain": [
       "<Figure size 432x288 with 2 Axes>"
      ]
     },
     "metadata": {
      "needs_background": "light"
     },
     "output_type": "display_data"
    }
   ],
   "source": [
    "sn.heatmap(corrMatrix, annot=True)\n",
    "plt.show()"
   ]
  },
  {
   "cell_type": "markdown",
   "id": "1bdf5ba0",
   "metadata": {},
   "source": [
    "## 3.5 Feature importance: Mutual information"
   ]
  },
  {
   "cell_type": "code",
   "execution_count": 17,
   "id": "a35bb2bc",
   "metadata": {},
   "outputs": [],
   "source": [
    "def above_average(a_series, average):\n",
    "    return (a_series >= average).astype(int)\n",
    "\n",
    "y_df_full_train = above_average(y_df_full_train, 152)"
   ]
  },
  {
   "cell_type": "code",
   "execution_count": 18,
   "id": "90718b91",
   "metadata": {},
   "outputs": [],
   "source": [
    "y_train_log = above_average(y_train, 152)\n",
    "y_val_log = above_average(y_val, 152)\n",
    "y_test_log = above_average(y_test, 152)"
   ]
  },
  {
   "cell_type": "code",
   "execution_count": 19,
   "id": "e2011a05",
   "metadata": {},
   "outputs": [],
   "source": [
    "from sklearn.metrics import mutual_info_score"
   ]
  },
  {
   "cell_type": "code",
   "execution_count": 20,
   "id": "6d86d649",
   "metadata": {},
   "outputs": [
    {
     "name": "stdout",
     "output_type": "stream",
     "text": [
      "neighbourhood_group \t 0.05\n",
      "room_type \t 0.14\n"
     ]
    }
   ],
   "source": [
    "categorical = ['neighbourhood_group', 'room_type']\n",
    "for col in categorical:\n",
    "    score = mutual_info_score(y_df_full_train, df_full_train[col])\n",
    "    print(col, \"\\t\", round(score,2))"
   ]
  },
  {
   "cell_type": "markdown",
   "id": "5ab58913",
   "metadata": {},
   "source": [
    "### Question 3: Which variable has the highest mutual information?"
   ]
  },
  {
   "cell_type": "code",
   "execution_count": 21,
   "id": "6e4330f4",
   "metadata": {},
   "outputs": [],
   "source": [
    "def mutual_info_score_df(series):\n",
    "    return round(mutual_info_score(series, y_df_full_train),2)"
   ]
  },
  {
   "cell_type": "code",
   "execution_count": 22,
   "id": "95740786",
   "metadata": {},
   "outputs": [
    {
     "data": {
      "text/plain": [
       "room_type              0.14\n",
       "neighbourhood_group    0.05\n",
       "dtype: float64"
      ]
     },
     "execution_count": 22,
     "metadata": {},
     "output_type": "execute_result"
    }
   ],
   "source": [
    "mi = df_full_train[categorical].apply(mutual_info_score_df)\n",
    "mi.sort_values(ascending=False)"
   ]
  },
  {
   "cell_type": "markdown",
   "id": "09c595cd",
   "metadata": {},
   "source": [
    "## 3.6 One-hot encoding"
   ]
  },
  {
   "cell_type": "code",
   "execution_count": 23,
   "id": "b12fe0da",
   "metadata": {},
   "outputs": [],
   "source": [
    "from sklearn.feature_extraction import DictVectorizer"
   ]
  },
  {
   "cell_type": "code",
   "execution_count": 24,
   "id": "5f8a1066",
   "metadata": {},
   "outputs": [],
   "source": [
    "dv = DictVectorizer(sparse=False)\n",
    "\n",
    "train_dict = df_train[categorical + numerical].to_dict(orient='records')\n",
    "X_train = dv.fit_transform(train_dict)\n",
    "\n",
    "val_dict = df_val[categorical + numerical].to_dict(orient='records')\n",
    "X_val = dv.transform(val_dict)"
   ]
  },
  {
   "cell_type": "markdown",
   "id": "62814c8f",
   "metadata": {},
   "source": [
    "## 3.7 Training logistic regression with Scikit-Learn"
   ]
  },
  {
   "cell_type": "code",
   "execution_count": 25,
   "id": "2c6291c9",
   "metadata": {},
   "outputs": [],
   "source": [
    "from sklearn.linear_model import LogisticRegression"
   ]
  },
  {
   "cell_type": "code",
   "execution_count": 26,
   "id": "50c431c7",
   "metadata": {},
   "outputs": [],
   "source": [
    "model = LogisticRegression(solver=\"liblinear\", C=1.0, random_state=42)"
   ]
  },
  {
   "cell_type": "code",
   "execution_count": 27,
   "id": "c914cc00",
   "metadata": {},
   "outputs": [
    {
     "data": {
      "text/plain": [
       "LogisticRegression(random_state=42, solver='liblinear')"
      ]
     },
     "execution_count": 27,
     "metadata": {},
     "output_type": "execute_result"
    }
   ],
   "source": [
    "model.fit(X_train, y_train_log)"
   ]
  },
  {
   "cell_type": "markdown",
   "id": "443a0f83",
   "metadata": {},
   "source": [
    "### Question 4: Accuracy of the model "
   ]
  },
  {
   "cell_type": "code",
   "execution_count": 28,
   "id": "dc139d2e",
   "metadata": {},
   "outputs": [],
   "source": [
    "def accuracy(model, X_val, y_val):\n",
    "    y_pred = model.predict_proba(X_val)[:, 1]\n",
    "    decision = (y_pred >= 0.5)\n",
    "    \n",
    "    df_pred = pd.DataFrame()\n",
    "    df_pred['probability'] = y_pred\n",
    "    df_pred['prediction'] = decision.astype(int)\n",
    "    df_pred['actual'] = y_val\n",
    "    \n",
    "    df_pred['correct'] = df_pred.prediction == df_pred.actual\n",
    "    return df_pred.correct.mean()"
   ]
  },
  {
   "cell_type": "code",
   "execution_count": 29,
   "id": "e78271e9",
   "metadata": {
    "scrolled": true
   },
   "outputs": [
    {
     "name": "stdout",
     "output_type": "stream",
     "text": [
      "0.79\n"
     ]
    }
   ],
   "source": [
    "gen_accuracy = accuracy(model, X_val, y_val_log)\n",
    "print(round(gen_accuracy, 2))"
   ]
  },
  {
   "cell_type": "code",
   "execution_count": 30,
   "id": "54c74016",
   "metadata": {},
   "outputs": [],
   "source": [
    "from sklearn.feature_extraction import DictVectorizer\n",
    "\n",
    "def vectorized_features(df_train, df_val):\n",
    "    dv = DictVectorizer(sparse=False)\n",
    "\n",
    "    train_dict = df_train.to_dict(orient='records')\n",
    "    X_train = dv.fit_transform(train_dict)\n",
    "\n",
    "    val_dict = df_val.to_dict(orient='records')\n",
    "    X_val = dv.transform(val_dict)\n",
    "    \n",
    "    return X_train, X_val\n",
    "\n",
    "def eliminate_train_diff_accuracy(df_train, df_val, y_train, y_val, col_to_eliminate, an_accuracy):\n",
    "    df_train_1 = df_train.drop([col_to_eliminate], axis=1)\n",
    "    df_val_1 = df_val.drop([col_to_eliminate], axis=1)\n",
    "    \n",
    "    X_train, X_val = vectorized_features(df_train_1, df_val_1)\n",
    "    \n",
    "    model = LogisticRegression(solver=\"liblinear\", C=1.0, random_state=42)\n",
    "    model.fit(X_train, y_train)\n",
    "    \n",
    "    acc = accuracy(model, X_val, y_val)\n",
    "    diff = round((an_accuracy - acc), 6)\n",
    "    print(col_to_eliminate, \"\\t\", acc, \"\\t\", diff)"
   ]
  },
  {
   "cell_type": "markdown",
   "id": "1bcbb3bc",
   "metadata": {},
   "source": [
    "### Question 5: Feature selection - the smallest difference in accuracy "
   ]
  },
  {
   "cell_type": "code",
   "execution_count": 31,
   "id": "bbf61794",
   "metadata": {},
   "outputs": [
    {
     "name": "stdout",
     "output_type": "stream",
     "text": [
      "neighbourhood_group \t 0.7498721750690255 \t 0.039063\n",
      "room_type \t 0.7295224460578791 \t 0.059413\n",
      "number_of_reviews \t 0.7913897126495552 \t -0.002454\n",
      "reviews_per_month \t 0.7907761529808774 \t -0.001841\n"
     ]
    }
   ],
   "source": [
    "cols = ['neighbourhood_group', 'room_type', 'number_of_reviews', 'reviews_per_month']\n",
    "for col in cols:\n",
    "    eliminate_train_diff_accuracy(df_train, df_val, y_train_log, y_val_log, col, gen_accuracy)\n",
    "    "
   ]
  },
  {
   "cell_type": "markdown",
   "id": "85debcbe",
   "metadata": {},
   "source": [
    "### Question 6: Regression with Scikit-Learn. What's the best alpha? "
   ]
  },
  {
   "cell_type": "code",
   "execution_count": 32,
   "id": "02b7545c",
   "metadata": {},
   "outputs": [],
   "source": [
    "y_train_r = np.log1p(y_train)\n",
    "y_val_r = np.log1p(y_val)\n",
    "y_test_r = np.log1p(y_test)"
   ]
  },
  {
   "cell_type": "code",
   "execution_count": 33,
   "id": "92433339",
   "metadata": {},
   "outputs": [],
   "source": [
    "from sklearn.linear_model import Ridge\n",
    "from sklearn.metrics import mean_squared_error\n",
    "\n",
    "def train_and_validate_linear_regression_model(df_train, df_val, y_train_r, y_val_r, alp):\n",
    "    X_train, X_val = vectorized_features(df_train, df_val)\n",
    "    \n",
    "    model = Ridge(alpha=alp)    \n",
    "    model.fit(X_train, y_train_r) \n",
    "\n",
    "    y_pred= model.predict(X_val)\n",
    "    rmse = np.sqrt(mean_squared_error(y_val_r, y_pred))\n",
    "    print(alp, \"\\t\", round(rmse,3)) \n",
    "    \n"
   ]
  },
  {
   "cell_type": "code",
   "execution_count": 34,
   "id": "c9990c22",
   "metadata": {},
   "outputs": [
    {
     "name": "stdout",
     "output_type": "stream",
     "text": [
      "0 \t 0.497\n",
      "0.01 \t 0.497\n",
      "0.1 \t 0.497\n",
      "1 \t 0.497\n",
      "10 \t 0.498\n"
     ]
    }
   ],
   "source": [
    "for alp in [0, 0.01, 0.1, 1, 10]:\n",
    "    train_and_validate_linear_regression_model(df_train, df_val, y_train_r, y_val_r, alp)"
   ]
  }
 ],
 "metadata": {
  "kernelspec": {
   "display_name": "Python 3",
   "language": "python",
   "name": "python3"
  },
  "language_info": {
   "codemirror_mode": {
    "name": "ipython",
    "version": 3
   },
   "file_extension": ".py",
   "mimetype": "text/x-python",
   "name": "python",
   "nbconvert_exporter": "python",
   "pygments_lexer": "ipython3",
   "version": "3.8.8"
  }
 },
 "nbformat": 4,
 "nbformat_minor": 5
}
