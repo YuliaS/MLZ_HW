{
 "cells": [
  {
   "cell_type": "markdown",
   "metadata": {
    "id": "BSw4FJ8WMmOZ"
   },
   "source": [
    "## 5. Deploying Machine Learning Models"
   ]
  },
  {
   "cell_type": "markdown",
   "metadata": {
    "id": "7Heig7SQMmOe"
   },
   "source": [
    "## Question 1: Version of Pipenv"
   ]
  },
  {
   "cell_type": "code",
   "execution_count": null,
   "metadata": {
    "id": "HwMfwMpCMmOg",
    "outputId": "16a748bc-eb54-4404-97cb-0b5dd5389a12"
   },
   "outputs": [
    {
     "name": "stdout",
     "output_type": "stream",
     "text": [
      "\u001b[39m\u001b[1mpipenv\u001b[39m\u001b[22m, version 2021.5.29\n",
      "\u001b[0m"
     ]
    }
   ],
   "source": [
    "# !pip install pipenv\n",
    "!pipenv --version"
   ]
  },
  {
   "cell_type": "markdown",
   "metadata": {
    "id": "mFX6lNxTMmOn"
   },
   "source": [
    "## Question 2: Checksum for Scikit-Learn 1.0"
   ]
  },
  {
   "cell_type": "markdown",
   "metadata": {
    "id": "8Vwl419vm1D-"
   },
   "source": [
    "~~~bash\n",
    "python3 -m pipenv install scikit-learn==1.0\n",
    "grep -A 2 \"scikit-learn\" Pipfile.lock\n",
    "\n",
    "\"scikit-learn\": {\n",
    "            \"hashes\": [\n",
    "    \"sha256:121f78d6564000dc5e968394f45aac87981fcaaf2be40cfcd8f07b2baa1e1829\",\n",
    "~~~"
   ]
  },
  {
   "cell_type": "markdown",
   "metadata": {
    "id": "puxvWokbMmOq"
   },
   "source": [
    "## Question 3: Probability of churning (Script)"
   ]
  },
  {
   "cell_type": "code",
   "execution_count": null,
   "metadata": {
    "id": "zM2njlY-MmOt"
   },
   "outputs": [],
   "source": [
    "# !PREFIX=https://raw.githubusercontent.com/alexeygrigorev/mlbookcamp-code/master/course-zoomcamp/05-deployment/homework\n",
    "# !wget $PREFIX/model1.bin\n",
    "# !wget $PREFIX/dv.bin"
   ]
  },
  {
   "cell_type": "code",
   "execution_count": null,
   "metadata": {
    "id": "DE6hD6NyPEUg"
   },
   "outputs": [],
   "source": [
    "import pickle\n",
    "import sklearn\n",
    "\n",
    "with open('model1.bin', 'rb') as f_in_model:\n",
    "    model = pickle.load(f_in_model)"
   ]
  },
  {
   "cell_type": "code",
   "execution_count": null,
   "metadata": {
    "id": "c1JXac0AQM5S"
   },
   "outputs": [],
   "source": [
    "with open('dv.bin', 'rb') as f_in_dv:\n",
    "    dv = pickle.load(f_in_dv)"
   ]
  },
  {
   "cell_type": "code",
   "execution_count": 9,
   "metadata": {
    "colab": {
     "base_uri": "https://localhost:8080/"
    },
    "id": "I73aU2FXQZrh",
    "outputId": "1469549d-1501-4fab-8613-2f10fc411fc9"
   },
   "outputs": [
    {
     "name": "stdout",
     "output_type": "stream",
     "text": [
      "5868e129bfbb309ba60bf750263afab1  model1.bin\n",
      "c49b69f8a5a3c560882ff5daa3c0ff4d  dv.bin\n"
     ]
    }
   ],
   "source": [
    "!md5sum model1.bin dv.bin"
   ]
  },
  {
   "cell_type": "code",
   "execution_count": 10,
   "metadata": {
    "colab": {
     "base_uri": "https://localhost:8080/"
    },
    "id": "IszyGbXUQyIN",
    "outputId": "b1557a3a-efa1-42cd-b0f5-3394ad25b40c"
   },
   "outputs": [
    {
     "data": {
      "text/plain": [
       "(DictVectorizer(dtype=<class 'numpy.float64'>, separator='=', sort=True,\n",
       "                sparse=False),\n",
       " LogisticRegression(C=1.0, class_weight=None, dual=False, fit_intercept=True,\n",
       "                    intercept_scaling=1, l1_ratio=None, max_iter=100,\n",
       "                    multi_class='auto', n_jobs=None, penalty='l2',\n",
       "                    random_state=None, solver='lbfgs', tol=0.0001, verbose=0,\n",
       "                    warm_start=False))"
      ]
     },
     "execution_count": 10,
     "metadata": {},
     "output_type": "execute_result"
    }
   ],
   "source": [
    "dv, model"
   ]
  },
  {
   "cell_type": "code",
   "execution_count": 17,
   "metadata": {
    "id": "xcOdgAQ5Q1gd"
   },
   "outputs": [],
   "source": [
    "customer = {\"contract\": \"two_year\", \"tenure\": 12, \"monthlycharges\": 19.7}"
   ]
  },
  {
   "cell_type": "code",
   "execution_count": 18,
   "metadata": {
    "id": "7ENXQuniRmw4"
   },
   "outputs": [],
   "source": [
    "X = dv.transform(customer)"
   ]
  },
  {
   "cell_type": "code",
   "execution_count": 21,
   "metadata": {
    "colab": {
     "base_uri": "https://localhost:8080/"
    },
    "id": "ueW4khBnRwk9",
    "outputId": "5ad91cea-a77c-4782-a610-437c7e239b24"
   },
   "outputs": [
    {
     "data": {
      "text/plain": [
       "0.115"
      ]
     },
     "execution_count": 21,
     "metadata": {},
     "output_type": "execute_result"
    }
   ],
   "source": [
    "round(model.predict_proba(X)[0,1],3)"
   ]
  },
  {
   "cell_type": "markdown",
   "metadata": {
    "id": "ujGq81YlSUG_"
   },
   "source": [
    "## Question 4: Probability of churning (Flask)\n"
   ]
  },
  {
   "cell_type": "code",
   "execution_count": null,
   "metadata": {
    "id": "S363lNlySTpg"
   },
   "outputs": [],
   "source": [
    "# !pip install flask"
   ]
  },
  {
   "cell_type": "code",
   "execution_count": null,
   "metadata": {
    "id": "TMzqACSZaNhN"
   },
   "outputs": [],
   "source": [
    "import requests\n",
    "\n",
    "url = \"http://127.0.0.1:9696/predict\"\n",
    "customer = {\"contract\": \"two_year\", \"tenure\": 1, \"monthlycharges\": 10}\n",
    "result = requests.post(url, json=customer).json()\n",
    "\n",
    "print(result)"
   ]
  },
  {
   "cell_type": "markdown",
   "metadata": {
    "id": "FXeHvkAAmo_e"
   },
   "source": [
    "~~~bash\n",
    "{'churn_probability': 0.999}\n",
    "~~~"
   ]
  },
  {
   "cell_type": "markdown",
   "metadata": {
    "id": "1eWX2g5hnP3r"
   },
   "source": [
    "## Question 5: Digest for the base image (Docker)\n"
   ]
  },
  {
   "cell_type": "markdown",
   "metadata": {
    "id": "BFf2dezonUAs"
   },
   "source": [
    "~~~bash\n",
    "sudo docker build -t churn-prediction .\n",
    "Sending build context to Docker daemon  20.48kB\n",
    "Step 1/8 : FROM agrigorev/zoomcamp-model:3.8.12-slim\n",
    "3.8.12-slim: Pulling from agrigorev/zoomcamp-model\n",
    "bd897bb914af: Already exists\n",
    "aee78d822213: Already exists\n",
    "6d9f6b5c1e71: Already exists\n",
    "cf9f290bd6be: Already exists\n",
    "5e4b501cbda5: Pulling fs layer\n",
    "5e4b501cbda5: Pull complete\n",
    "bd464adb9682: Pull complete\n",
    "c803b748156d: Pull complete\n",
    "Digest: sha256:1ee036b365452f8a1da0dbc3bf5e7dd0557cfd33f0e56b28054d1dbb9c852023\n",
    "Status: Downloaded newer image for agrigorev/zoomcamp-model:3.8.12-slim\n",
    " ---> f0f43f7bc6e0\n",
    " ...\n",
    "~~~\n",
    "\n",
    "\n",
    "~~~bash\n",
    " sudo docker build -t churn-prediction .\n",
    "Sending build context to Docker daemon  20.48kB\n",
    "Step 1/10 : FROM agrigorev/zoomcamp-model:3.8.12-slim\n",
    " ---> f0f43f7bc6e0\n",
    "Step 2/10 : RUN pip install pipenv\n",
    " ---> Using cache\n",
    " ---> 22e989fec974\n",
    "Step 3/10 : RUN pip install gunicorn\n",
    " ---> Using cache\n",
    " ---> 1810590b1122\n",
    "Step 4/10 : RUN pip install flask\n",
    " ---> Using cache\n",
    " ---> c3c1c0acc065\n",
    "Step 5/10 : WORKDIR /app\n",
    " ---> Using cache\n",
    " ---> 49a126692b6c\n",
    "Step 6/10 : COPY [\"Pipfile\", \"Pipfile.lock\", \"./\"]\n",
    " ---> Using cache\n",
    " ---> 9967eab1740b\n",
    "Step 7/10 : RUN pipenv install --deploy --system\n",
    " ---> Using cache\n",
    " ---> a2be231a0f96\n",
    "Step 8/10 : COPY [\"predict_app.py\", \"*.bin\", \"./\"]\n",
    " ---> ffd1407c79e0\n",
    "Step 9/10 : EXPOSE 9696\n",
    " ---> Running in a7dddb804315\n",
    "Removing intermediate container a7dddb804315\n",
    " ---> 3294e057ebbb\n",
    "Step 10/10 : ENTRYPOINT [\"gunicorn\", \"--bind=0.0.0.0:9696\", \"predict_app:app\"]\n",
    " ---> Running in a31c99a70378\n",
    "Removing intermediate container a31c99a70378\n",
    " ---> 5fc4b0544508\n",
    "Successfully built 5fc4b0544508\n",
    "Successfully tagged churn-prediction:latest\n",
    "~~~"
   ]
  },
  {
   "cell_type": "markdown",
   "metadata": {
    "id": "zJ-jfD_os9ER"
   },
   "source": [
    "## Question 6: Probability of churning (Docker)"
   ]
  },
  {
   "cell_type": "markdown",
   "metadata": {
    "id": "S2tHEqhls_oW"
   },
   "source": [
    "~~~bash\n",
    "sudo docker run -it -p 9696:9696 churn-prediction:latest\n",
    "~~~"
   ]
  },
  {
   "cell_type": "markdown",
   "metadata": {
    "id": "-JjrucbKtFkV"
   },
   "source": [
    "~~~bash\n",
    "python3 test_predict.py\n",
    "\n",
    "{'churn_probability': 0.329}\n",
    "~~~"
   ]
  }
 ],
 "metadata": {
  "colab": {
   "collapsed_sections": [],
   "name": "MLZ_HW_05.ipynb",
   "provenance": []
  },
  "kernelspec": {
   "display_name": "Python 3",
   "language": "python",
   "name": "python3"
  },
  "language_info": {
   "codemirror_mode": {
    "name": "ipython",
    "version": 3
   },
   "file_extension": ".py",
   "mimetype": "text/x-python",
   "name": "python",
   "nbconvert_exporter": "python",
   "pygments_lexer": "ipython3",
   "version": "3.8.8"
  }
 },
 "nbformat": 4,
 "nbformat_minor": 1
}
